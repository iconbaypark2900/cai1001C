{
 "cells": [
  {
   "cell_type": "code",
   "execution_count": null,
   "metadata": {},
   "outputs": [],
   "source": [
    "# src/train_model.py\n",
    "from sklearn.datasets import load_breast_cancer\n",
    "from sklearn.model_selection import train_test_split\n",
    "import pandas as pd\n",
    "\n",
    "def save_dataset_to_csv():\n",
    "    # Load dataset\n",
    "    cancer_data = load_breast_cancer()\n",
    "    X = pd.DataFrame(data=cancer_data.data, columns=cancer_data.feature_names)\n",
    "    y = pd.DataFrame(data=cancer_data.target, columns=['target'])\n",
    "\n",
    "    # Concatenate features and target into a single DataFrame\n",
    "    df = pd.concat([X, y], axis=1)\n",
    "\n",
    "    # Save the DataFrame to a CSV file\n",
    "    df.to_csv('../data/breast_cancer.csv', index=False)\n",
    "\n",
    "    print(\"Breast Cancer dataset saved to breast_cancer.csv\")\n",
    "\n",
    "def train_model():\n",
    "    # Load dataset\n",
    "    df = pd.read_csv('../data/breast_cancer.csv')\n",
    "\n",
    "    # Split data into features and target\n",
    "    X = df.drop('target', axis=1)\n",
    "    y = df['target']\n",
    "\n",
    "    # Split data into train and test sets\n",
    "    X_train, X_test, y_train, y_test = train_test_split(X, y, test_size=0.3, random_state=42)\n",
    "\n",
    "    # Initialize and train classifier\n",
    "    model = SVC()\n",
    "    model.fit(X_train, y_train)\n",
    "\n",
    "    # Evaluate the model\n",
    "    accuracy = model.score(X_test, y_test)\n",
    "    print(\"Model accuracy:\", accuracy)\n",
    "\n",
    "if __name__ == \"__main__\":\n",
    "    save_dataset_to_csv()\n",
    "    train_model()"
   ]
  }
 ],
 "metadata": {
  "language_info": {
   "name": "python"
  }
 },
 "nbformat": 4,
 "nbformat_minor": 2
}
