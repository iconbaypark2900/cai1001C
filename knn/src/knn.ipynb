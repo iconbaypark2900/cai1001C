{
 "cells": [
  {
   "cell_type": "code",
   "execution_count": null,
   "metadata": {},
   "outputs": [],
   "source": [
    "# src/train_model.py\n",
    "from sklearn.datasets import load_wine\n",
    "from sklearn.model_selection import train_test_split\n",
    "from sklearn.neighbors import KNeighborsClassifier\n",
    "import pandas as pd\n",
    "\n",
    "def save_dataset_to_csv():\n",
    "    # Load dataset\n",
    "    wine_data = load_wine()\n",
    "    X = pd.DataFrame(data=wine_data.data, columns=wine_data.feature_names)\n",
    "    y = pd.DataFrame(data=wine_data.target, columns=['target'])\n",
    "\n",
    "    # Concatenate features and target into a single DataFrame\n",
    "    df = pd.concat([X, y], axis=1)\n",
    "\n",
    "    # Save the DataFrame to a CSV file\n",
    "    df.to_csv('../data/wine.csv', index=False)\n",
    "\n",
    "    print(\"Wine dataset saved to wine.csv\")\n",
    "\n",
    "def train_model():\n",
    "    # Load dataset\n",
    "    df = pd.read_csv('../data/wine.csv')\n",
    "\n",
    "    # Split data into features and target\n",
    "    X = df.drop('target', axis=1)\n",
    "    y = df['target']\n",
    "\n",
    "    # Split data into train and test sets\n",
    "    X_train, X_test, y_train, y_test = train_test_split(X, y, test_size=0.3, random_state=42)\n",
    "\n",
    "    # Initialize and train classifier\n",
    "    model = KNeighborsClassifier(n_neighbors=3)\n",
    "    model.fit(X_train, y_train)\n",
    "\n",
    "    # Evaluate the model\n",
    "    accuracy = model.score(X_test, y_test)\n",
    "    print(\"Model accuracy:\", accuracy)\n",
    "\n",
    "if __name__ == \"__main__\":\n",
    "    save_dataset_to_csv()\n",
    "    train_model()\n"
   ]
  }
 ],
 "metadata": {
  "language_info": {
   "name": "python"
  }
 },
 "nbformat": 4,
 "nbformat_minor": 2
}
