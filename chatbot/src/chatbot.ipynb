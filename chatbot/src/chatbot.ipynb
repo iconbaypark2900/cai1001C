{
 "cells": [
  {
   "cell_type": "code",
   "execution_count": null,
   "metadata": {},
   "outputs": [],
   "source": [
    "# Importing the necessary module\n",
    "from chatterbot import ChatBot\n",
    "from chatterbot.trainers import ChatterBotCorpusTrainer\n",
    "\n",
    "# Create a chatbot\n",
    "chatbot = ChatBot('MyBot')\n",
    "\n",
    "# Create a new trainer for the chatbot\n",
    "trainer = ChatterBotCorpusTrainer(chatbot)\n",
    "\n",
    "# Train the chatbot based on the English language corpus\n",
    "trainer.train('chatterbot.corpus.english')\n",
    "\n",
    "# Get a response to an input statement\n",
    "while True:\n",
    "    try:\n",
    "        user_input = input(\"You: \")\n",
    "        response = chatbot.get_response(user_input)\n",
    "        print(f\"Bot: {response}\")\n",
    "    except (KeyboardInterrupt, EOFError, SystemExit):\n",
    "        break\n"
   ]
  }
 ],
 "metadata": {
  "language_info": {
   "name": "python"
  }
 },
 "nbformat": 4,
 "nbformat_minor": 2
}
