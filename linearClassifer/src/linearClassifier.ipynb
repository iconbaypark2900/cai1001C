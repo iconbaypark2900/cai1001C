{
 "cells": [
  {
   "cell_type": "code",
   "execution_count": null,
   "metadata": {},
   "outputs": [],
   "source": [
    "import pandas as pd\n",
    "from sklearn.datasets import load_iris\n",
    "from sklearn.linear_model import LogisticRegression\n",
    "from sklearn.model_selection import train_test_split, GridSearchCV\n",
    "from sklearn.metrics import classification_report\n",
    "from joblib import dump, load\n",
    "\n",
    "# Load the Iris dataset\n",
    "iris_data = load_iris()\n",
    "\n",
    "# Convert the data to a pandas DataFrame\n",
    "df = pd.DataFrame(data=iris_data.data, columns=iris_data.feature_names)\n",
    "df['target'] = iris_data.target\n",
    "df.to_csv('iris.csv', index=False)\n",
    "print(\"Iris dataset saved to iris.csv\")\n",
    "\n",
    "def train_and_evaluate():\n",
    "    # Load dataset\n",
    "    data = load_iris()\n",
    "    X, y = data.data, data.target\n",
    "\n",
    "    # Split data\n",
    "    X_train, X_test, y_train, y_test = train_test_split(X, y, test_size=0.3)\n",
    "\n",
    "    # Hyperparameter tuning\n",
    "    parameters = {'C': [0.1, 1, 10], 'solver': ['liblinear', 'lbfgs']}\n",
    "    model = LogisticRegression()\n",
    "    clf = GridSearchCV(model, parameters, cv=5)\n",
    "    clf.fit(X_train, y_train)\n",
    "\n",
    "    # Save the model\n",
    "    dump(clf, 'logistic_regression_model.joblib')\n",
    "    print(\"Model saved to logistic_regression_model.joblib\")\n",
    "\n",
    "    # Evaluate the model\n",
    "    y_pred = clf.predict(X_test)\n",
    "    print(\"Classification Report:\\n\", classification_report(y_test, y_pred))\n",
    "\n",
    "def load_model(path):\n",
    "    # Load a trained model\n",
    "    return load(path)\n",
    "\n",
    "if __name__ == \"__main__\":\n",
    "    train_and_evaluate()\n",
    "    # Example of loading the model\n",
    "    model = load_model('logistic_regression_model.joblib')\n",
    "    print(\"Loaded model:\", model)"
   ]
  }
 ],
 "metadata": {
  "language_info": {
   "name": "python"
  }
 },
 "nbformat": 4,
 "nbformat_minor": 2
}
