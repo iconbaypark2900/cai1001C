{
 "cells": [
  {
   "cell_type": "code",
   "execution_count": null,
   "metadata": {},
   "outputs": [],
   "source": [
    "import numpy as np\n",
    "import random\n",
    "\n",
    "# Initialize states and rewards\n",
    "R = np.array([[0, 1, -1],\n",
    "              [1, 0, -1],\n",
    "              [1, 1, 0]])  # Reward matrix\n",
    "Q = np.zeros_like(R)  # Q-value matrix\n",
    "\n",
    "# Hyperparameters\n",
    "gamma = 0.8  # Discount factor\n",
    "learning_rate = 0.9\n",
    "episodes = 10000  # Number of episodes\n",
    "\n",
    "def choose_action(state):\n",
    "    valid_actions = np.where(R[state, :] >= 0)[0]\n",
    "    return random.choice(valid_actions)\n",
    "\n",
    "def update_q(state, action):\n",
    "    next_state = action\n",
    "    future_rewards = np.max(Q[next_state, :])\n",
    "    Q[state, action] = Q[state, action] + learning_rate * (R[state, action] + gamma * future_rewards - Q[state, action])\n",
    "\n",
    "# Train the model\n",
    "for _ in range(episodes):\n",
    "    state = np.random.randint(0, 3)  # Start at a random state\n",
    "    while True:\n",
    "        action = choose_action(state)\n",
    "        update_q(state, action)\n",
    "        if action == 2:  # End state\n",
    "            break\n",
    "        state = action\n",
    "\n",
    "print(\"Trained Q-matrix:\")\n",
    "print(Q)\n"
   ]
  }
 ],
 "metadata": {
  "language_info": {
   "name": "python"
  }
 },
 "nbformat": 4,
 "nbformat_minor": 2
}
